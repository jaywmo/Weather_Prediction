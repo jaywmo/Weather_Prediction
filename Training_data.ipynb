{
 "cells": [
  {
   "cell_type": "code",
   "execution_count": 1,
   "metadata": {
    "collapsed": true
   },
   "outputs": [],
   "source": [
    "import pandas as pd\n",
    "import numpy as np\n",
    "import glob"
   ]
  },
  {
   "cell_type": "code",
   "execution_count": 2,
   "metadata": {
    "collapsed": true
   },
   "outputs": [],
   "source": [
    "input_directory = 'yvr-weather'\n",
    "training_output_file = 'training_data/training_data.csv'\n",
    "prediction_output_file = 'training_data/prediction_data.csv'\n",
    "csv_files = glob.glob(input_directory + \"/*.csv\") # Reads every .csv file in input_directory\n",
    "training_csv_list = [] # List used to concat the dataframes\n",
    "prediction_csv_list = []\n",
    "# TODO: Fix code to not have dataframes to append to list\n",
    "\n",
    "for csv in csv_files:\n",
    "    data = pd.read_csv(csv, header = 14) \n",
    "    data = data.drop(['Data Quality'], 1) # Drop column 'Data Quality'\n",
    "    data = data.dropna(axis = 1, how = 'all') # Drop column if every value is null\n",
    "    \n",
    "    prediction = data.loc[data['Weather'].isnull()]  \n",
    "    prediction_csv_list.append(prediction)\n",
    "    \n",
    "    data = data.loc[~data['Weather'].isnull()] # Drop row if weather is null\n",
    "    training_csv_list.append(data)\n"
   ]
  },
  {
   "cell_type": "code",
   "execution_count": 3,
   "metadata": {
    "collapsed": true
   },
   "outputs": [],
   "source": [
    "# Creates training data\n",
    "training_data = pd.concat(training_csv_list, ignore_index = True)\n",
    "\n",
    "# Creates prediction data\n",
    "prediction_data = pd.concat(prediction_csv_list, ignore_index = True)"
   ]
  },
  {
   "cell_type": "code",
   "execution_count": 4,
   "metadata": {},
   "outputs": [],
   "source": [
    "# Training data cleaning\n",
    "\n",
    "# Parsing Time\n",
    "training_data['Time'] = training_data['Time'].str.slice(start = 0, stop = 2)\n",
    "training_data['Time'] = training_data['Time'].astype(int)\n",
    "training_data = training_data[ (training_data['Time'] <= 21) & (training_data['Time'] >= 6)]\n",
    "training_data = training_data.reset_index(drop = True)\n",
    "\n",
    "# Removing NaN data\n",
    "training_data = training_data.drop(['Hmdx', 'Wind Chill'], 1)\n",
    "training_data = training_data.dropna(axis=0, how='any')\n",
    "\n",
    "# Prediction data cleaning\n",
    "prediction_data['Time'] = prediction_data['Time'].str.slice(start = 0, stop = 2)\n",
    "prediction_data['Time'] = prediction_data['Time'].astype(int)\n",
    "prediction_data = prediction_data[ (prediction_data['Time'] <= 21) & (prediction_data['Time'] >= 6)]\n",
    "prediction_data = prediction_data.reset_index(drop = True)\n",
    "prediction_data.loc[:, 'Weather'] = 0 # We don't want NULL values in weather\n",
    "prediction_data = prediction_data.drop(['Hmdx', 'Wind Chill'], 1)\n",
    "prediction_data = prediction_data.dropna(axis=0, how='any')"
   ]
  },
  {
   "cell_type": "code",
   "execution_count": 5,
   "metadata": {
    "collapsed": true
   },
   "outputs": [],
   "source": [
    "# REMOVE RESULTS WITH NOT ENOUGH SAMPLE PHOTOS\n",
    "\n",
    "training_data = training_data.groupby('Weather').filter(lambda x: len(x) >= 20)\n",
    "training_data = training_data.reset_index(drop = True)"
   ]
  },
  {
   "cell_type": "code",
   "execution_count": 6,
   "metadata": {
    "collapsed": true
   },
   "outputs": [],
   "source": [
    "# COMBINE Clear with Mainly Clear\n",
    "# COMBINE Rain with Moderate Rain\n",
    "# COMBINE Rain with Rain Showers + Rain,Fog\n",
    "\n",
    "training_data['Weather'] = training_data['Weather'].replace('Mainly Clear', 'Clear')\n",
    "training_data['Weather'] = training_data['Weather'].replace('Moderate Rain', 'Rain')\n",
    "training_data['Weather'] = training_data['Weather'].replace('Rain Showers', 'Rain')\n",
    "training_data['Weather'] = training_data['Weather'].replace('Rain,Fog', 'Rain')\n",
    "training_data['Weather'] = training_data['Weather'].replace('Mostly Cloudy', 'Cloudy')"
   ]
  },
  {
   "cell_type": "code",
   "execution_count": 7,
   "metadata": {
    "collapsed": true
   },
   "outputs": [],
   "source": [
    "# SAVE\n",
    "\n",
    "training_data.to_csv(training_output_file)\n",
    "\n",
    "prediction_data.to_csv(prediction_output_file)"
   ]
  },
  {
   "cell_type": "code",
   "execution_count": null,
   "metadata": {
    "collapsed": true
   },
   "outputs": [],
   "source": []
  }
 ],
 "metadata": {
  "kernelspec": {
   "display_name": "Python 3",
   "language": "python",
   "name": "python3"
  },
  "language_info": {
   "codemirror_mode": {
    "name": "ipython",
    "version": 3
   },
   "file_extension": ".py",
   "mimetype": "text/x-python",
   "name": "python",
   "nbconvert_exporter": "python",
   "pygments_lexer": "ipython3",
   "version": "3.6.1"
  }
 },
 "nbformat": 4,
 "nbformat_minor": 2
}
