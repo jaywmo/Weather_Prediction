{
 "cells": [
  {
   "cell_type": "code",
   "execution_count": 1,
   "metadata": {
    "collapsed": true
   },
   "outputs": [],
   "source": [
    "import pandas as pd\n",
    "import numpy as np\n",
    "# import sys\n",
    "from sklearn import preprocessing\n",
    "from sklearn.metrics import classification_report\n",
    "from sklearn.model_selection import train_test_split\n",
    "from sklearn.naive_bayes import GaussianNB\n",
    "from sklearn.neighbors import KNeighborsClassifier\n",
    "from sklearn.svm import SVC\n",
    "from sklearn.pipeline import make_pipeline\n",
    "from sklearn.preprocessing import FunctionTransformer\n",
    "from sklearn.preprocessing import StandardScaler\n",
    "from skimage import io\n",
    "from sklearn.decomposition import PCA"
   ]
  },
  {
   "cell_type": "code",
   "execution_count": 2,
   "metadata": {
    "collapsed": true
   },
   "outputs": [],
   "source": [
    "# READING FILE\n",
    "\n",
    "input_file = 'training_data/images_data.csv' # images_data = training_data\n",
    "testing_data = pd.read_csv(input_file, index_col = 0)"
   ]
  },
  {
   "cell_type": "code",
   "execution_count": 3,
   "metadata": {
    "collapsed": true
   },
   "outputs": [],
   "source": [
    "# READING IMAGES\n",
    "\n",
    "dfSize = testing_data.shape[0]\n",
    "images = io.imread_collection(testing_data['filename'].values)\n",
    "images = images.concatenate().reshape(dfSize, -1)"
   ]
  },
  {
   "cell_type": "code",
   "execution_count": 4,
   "metadata": {
    "collapsed": true
   },
   "outputs": [],
   "source": [
    "# NORMALIZE DATA FUNCTION\n",
    "\n",
    "def normalizeData(X):\n",
    "    X = preprocessing.StandardScaler().fit_transform(X)\n",
    "    return X"
   ]
  },
  {
   "cell_type": "code",
   "execution_count": 5,
   "metadata": {
    "collapsed": true
   },
   "outputs": [],
   "source": [
    "# JOINING WEATHER + IMAGES\n",
    "drop_columns = ['Weather', 'Date/Time', 'filename']\n",
    "X_1 = testing_data.drop(drop_columns, axis = 1) # 2244 x 7\n",
    "\n",
    "# images = np.hsplit(images, 2)[1] # Splitting images decreases accuracy\n",
    "X_2 = pd.DataFrame(images) # 2244 x 147456\n",
    "\n",
    "X = pd.concat([X_1, X_2], axis = 1)\n",
    "\n",
    "# TRAINING SPLIT\n",
    "\n",
    "y = testing_data['Weather']\n",
    "X_train, X_test, y_train, y_test = train_test_split(X,y)\n",
    "# X_train, X_test, y_train, y_test = train_test_split(X_1,y) # Only weather data\n",
    "# X_train, X_test, y_train, y_test = train_test_split(X_2,y) # Only images"
   ]
  },
  {
   "cell_type": "code",
   "execution_count": 6,
   "metadata": {
    "collapsed": true
   },
   "outputs": [],
   "source": [
    "# print(X)"
   ]
  },
  {
   "cell_type": "code",
   "execution_count": 7,
   "metadata": {
    "collapsed": true
   },
   "outputs": [],
   "source": [
    "# TRAINING MODELS\n",
    "\n",
    "components = 50\n",
    "\n",
    "# GaussianNB\n",
    "NB_model = make_pipeline(\n",
    "    FunctionTransformer(normalizeData),\n",
    "    PCA(n_components=components),\n",
    "    GaussianNB(),\n",
    ")\n",
    "\n",
    "# KNeighborsClassifier\n",
    "KN_N = 20\n",
    "KN_model = make_pipeline(\n",
    "    FunctionTransformer(normalizeData),\n",
    "    PCA(n_components=components),\n",
    "    KNeighborsClassifier(n_neighbors = KN_N),\n",
    ")\n",
    "\n",
    "# SVC\n",
    "SVC_C = 0.01\n",
    "SVC_model = make_pipeline(\n",
    "    FunctionTransformer(normalizeData),\n",
    "    PCA(n_components=components),\n",
    "    SVC(kernel = 'linear', C = SVC_C),\n",
    ")"
   ]
  },
  {
   "cell_type": "code",
   "execution_count": 8,
   "metadata": {
    "collapsed": true
   },
   "outputs": [],
   "source": [
    "# ACCURACY SCORE\n",
    "\n",
    "# NB_model.fit(X_train, y_train)\n",
    "# print ('GaussianNB: %f' % (NB_model.score(X_test, y_test)) )\n",
    "# print(classification_report(y_test, NB_model.predict(X_test)))"
   ]
  },
  {
   "cell_type": "code",
   "execution_count": 9,
   "metadata": {
    "collapsed": true,
    "scrolled": false
   },
   "outputs": [],
   "source": [
    "# KN_model.fit(X_train, y_train)\n",
    "# print ('KNeighborsClassifier: %f' % (KN_model.score(X_test, y_test)) )\n",
    "# print(classification_report(y_test, KN_model.predict(X_test)))"
   ]
  },
  {
   "cell_type": "code",
   "execution_count": 10,
   "metadata": {},
   "outputs": [
    {
     "name": "stdout",
     "output_type": "stream",
     "text": [
      "SVC: 0.725746\n",
      "             precision    recall  f1-score   support\n",
      "\n",
      "      Clear       0.78      0.80      0.79       118\n",
      "     Cloudy       0.72      0.73      0.72       239\n",
      "       Rain       0.71      0.68      0.69       168\n",
      "       Snow       0.60      0.55      0.57        11\n",
      "\n",
      "avg / total       0.73      0.73      0.73       536\n",
      "\n"
     ]
    }
   ],
   "source": [
    "SVC_model.fit(X_train, y_train)\n",
    "print ('SVC: %f' % (SVC_model.score(X_test, y_test)) )\n",
    "print(classification_report(y_test, SVC_model.predict(X_test)))"
   ]
  },
  {
   "cell_type": "code",
   "execution_count": null,
   "metadata": {
    "collapsed": true
   },
   "outputs": [],
   "source": []
  }
 ],
 "metadata": {
  "kernelspec": {
   "display_name": "Python 3",
   "language": "python",
   "name": "python3"
  },
  "language_info": {
   "codemirror_mode": {
    "name": "ipython",
    "version": 3
   },
   "file_extension": ".py",
   "mimetype": "text/x-python",
   "name": "python",
   "nbconvert_exporter": "python",
   "pygments_lexer": "ipython3",
   "version": "3.6.1"
  }
 },
 "nbformat": 4,
 "nbformat_minor": 2
}
