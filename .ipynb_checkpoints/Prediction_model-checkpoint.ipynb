{
 "cells": [
  {
   "cell_type": "code",
   "execution_count": 46,
   "metadata": {
    "collapsed": true
   },
   "outputs": [],
   "source": [
    "import pandas as pd\n",
    "import numpy as np\n",
    "from sklearn import preprocessing\n",
    "from sklearn.metrics import classification_report\n",
    "from sklearn.svm import SVC\n",
    "from sklearn.pipeline import make_pipeline\n",
    "from sklearn.preprocessing import FunctionTransformer\n",
    "from sklearn.preprocessing import StandardScaler\n",
    "from skimage import io\n",
    "from sklearn.decomposition import PCA"
   ]
  },
  {
   "cell_type": "code",
   "execution_count": 47,
   "metadata": {
    "collapsed": false
   },
   "outputs": [],
   "source": [
    "# READING FILE\n",
    "\n",
    "train = 'training_data/images_data.csv' # images_data = training_data\n",
    "predict = 'training_data/unknown_data.csv' # unknown_data = prediction_data\n",
    "training_data = pd.read_csv(train, index_col = 0)\n",
    "prediction_data = pd.read_csv(predict, index_col = 0)\n",
    "\n",
    "prediction_data = prediction_data.iloc[:100]"
   ]
  },
  {
   "cell_type": "code",
   "execution_count": 48,
   "metadata": {
    "collapsed": true
   },
   "outputs": [],
   "source": [
    "# READING IMAGES\n",
    "\n",
    "dfSize = training_data.shape[0]\n",
    "images = io.imread_collection(training_data['filename'].values)\n",
    "images = images.concatenate().reshape(dfSize, -1)\n",
    "\n",
    "dfSize_p = prediction_data.shape[0]\n",
    "images_p = io.imread_collection(prediction_data['filename'].values)\n",
    "images_p = images_p.concatenate().reshape(dfSize_p, -1)"
   ]
  },
  {
   "cell_type": "code",
   "execution_count": 49,
   "metadata": {
    "collapsed": true
   },
   "outputs": [],
   "source": [
    "# NORMALIZE DATA FUNCTION\n",
    "\n",
    "def normalizeData(X):\n",
    "    X = preprocessing.StandardScaler().fit_transform(X)\n",
    "    return X"
   ]
  },
  {
   "cell_type": "code",
   "execution_count": 50,
   "metadata": {
    "collapsed": true
   },
   "outputs": [],
   "source": [
    "# JOINING WEATHER + IMAGES\n",
    "drop_columns = ['Weather', 'Date/Time', 'filename']\n",
    "X_1 = training_data.drop(drop_columns, axis = 1) # 2244 x 7\n",
    "\n",
    "# images = np.hsplit(images, 2)[1] # Splitting images decreases accuracy\n",
    "X_2 = pd.DataFrame(images) # 2244 x 147456\n",
    "\n",
    "X = pd.concat([X_1, X_2], axis = 1)\n",
    "# X = PCA(50).fit_transform(X) # preprocess\n",
    "y = training_data['Weather']\n",
    "\n",
    "# Set up for prediction X\n",
    "X_1 = prediction_data.drop(drop_columns, axis = 1)\n",
    "X_2 = pd.DataFrame(images_p)\n",
    "X_p = pd.concat([X_1, X_2], axis = 1)\n",
    "# X_P = PCA(50).fit_transform(X_p) # preprocess"
   ]
  },
  {
   "cell_type": "code",
   "execution_count": 52,
   "metadata": {
    "collapsed": true
   },
   "outputs": [],
   "source": [
    "# SVC Classifcation Model Code\n",
    "components = 50\n",
    "SVC_C = 0.01\n",
    "\n",
    "SVC_model = make_pipeline(\n",
    "    FunctionTransformer(normalizeData),\n",
    "    PCA(n_components=components),\n",
    "    SVC(kernel = 'linear', C = SVC_C),\n",
    ")"
   ]
  },
  {
   "cell_type": "code",
   "execution_count": 53,
   "metadata": {
    "collapsed": false
   },
   "outputs": [
    {
     "data": {
      "text/plain": [
       "Pipeline(steps=[('functiontransformer', FunctionTransformer(accept_sparse=False,\n",
       "          func=<function normalizeData at 0x11c0da158>, inv_kw_args=None,\n",
       "          inverse_func=None, kw_args=None, pass_y=False, validate=True)), ('pca', PCA(copy=True, iterated_power='auto', n_components=50, random_state=None...,\n",
       "  max_iter=-1, probability=False, random_state=None, shrinking=True,\n",
       "  tol=0.001, verbose=False))])"
      ]
     },
     "execution_count": 53,
     "metadata": {},
     "output_type": "execute_result"
    }
   ],
   "source": [
    "SVC_model.fit(X, y)"
   ]
  },
  {
   "cell_type": "code",
   "execution_count": 54,
   "metadata": {
    "collapsed": false
   },
   "outputs": [],
   "source": [
    "y_p = SVC_model.predict(X_p)"
   ]
  },
  {
   "cell_type": "code",
   "execution_count": null,
   "metadata": {
    "collapsed": true
   },
   "outputs": [],
   "source": [
    "print(y_p)"
   ]
  }
 ],
 "metadata": {
  "kernelspec": {
   "display_name": "Python 3",
   "language": "python",
   "name": "python3"
  },
  "language_info": {
   "codemirror_mode": {
    "name": "ipython",
    "version": 3
   },
   "file_extension": ".py",
   "mimetype": "text/x-python",
   "name": "python",
   "nbconvert_exporter": "python",
   "pygments_lexer": "ipython3",
   "version": "3.6.0"
  }
 },
 "nbformat": 4,
 "nbformat_minor": 2
}
