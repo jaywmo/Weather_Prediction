{
 "cells": [
  {
   "cell_type": "code",
   "execution_count": null,
   "metadata": {
    "collapsed": true
   },
   "outputs": [],
   "source": [
    "import pandas as pd\n",
    "import numpy as np\n",
    "# import matplotlib.pyplot as plt\n",
    "# import sys\n",
    "# import re\n",
    "from sklearn.model_selection import train_test_split\n",
    "from sklearn.naive_bayes import GaussianNB\n",
    "from sklearn.pipeline import make_pipeline\n",
    "from sklearn.preprocessing import FunctionTransformer\n",
    "from sklearn.neighbors import KNeighborsClassifier\n",
    "from sklearn.svm import SVC\n",
    "# from skimage import color\n",
    "from skimage import io\n",
    "from sklearn.decomposition import PCA\n",
    "from sklearn.decomposition import TruncatedSVD"
   ]
  },
  {
   "cell_type": "code",
   "execution_count": null,
   "metadata": {
    "collapsed": true
   },
   "outputs": [],
   "source": [
    "# Reading file\n",
    "# input_file = 'training_data/training_data.csv'\n",
    "input_file = 'training_data/images_data.csv'\n",
    "testing_data = pd.read_csv(input_file, index_col = 0)\n",
    "# Grab ImageCollection\n",
    "dfSize = testing_data.shape[0]\n",
    "images = io.imread_collection(testing_data['filename'].values)"
   ]
  },
  {
   "cell_type": "code",
   "execution_count": null,
   "metadata": {
    "collapsed": true
   },
   "outputs": [],
   "source": [
    "# Normalize Data\n",
    "def normalizeData(X):\n",
    "    X = preprocessing.StandardScaler().fit_transform(X)\n",
    "    return X"
   ]
  },
  {
   "cell_type": "code",
   "execution_count": null,
   "metadata": {
    "collapsed": true
   },
   "outputs": [],
   "source": [
    "# Training Split\n",
    "#X = testing_data.drop(['Weather', 'Date/Time'], axis = 1)\n",
    "X = images.concatenate().reshape(dfSize, 147456)\n",
    "y = testing_data['Weather']\n",
    "X_train, X_test, y_train, y_test = train_test_split(X,y)"
   ]
  },
  {
   "cell_type": "code",
   "execution_count": null,
   "metadata": {
    "collapsed": true
   },
   "outputs": [],
   "source": [
    "# GaussianNB\n",
    "NB_model = make_pipeline(\n",
    "#     FunctionTransformer(normalizeData),\n",
    "    GaussianNB(),\n",
    ")\n",
    "\n",
    "# KNeighborsClassifier\n",
    "KN_N = 20\n",
    "KN_model = make_pipeline(\n",
    "#     FunctionTransformer(normalizeData),\n",
    "    KNeighborsClassifier(n_neighbors = KN_N),\n",
    ")\n",
    "\n",
    "# SVC\n",
    "SVC_C = 2\n",
    "SVC_model = make_pipeline(\n",
    "#     FunctionTransformer(normalizeData),\n",
    "    PCA(250),\n",
    "    SVC(kernel = 'linear', C = SVC_C),\n",
    ")"
   ]
  },
  {
   "cell_type": "code",
   "execution_count": null,
   "metadata": {
    "collapsed": true
   },
   "outputs": [],
   "source": [
    "# Accuracy Score\n",
    "# NB_model.fit(X_train, y_train)\n",
    "# print ('GaussianNB: %f' % (NB_model.score(X_test, y_test)) )\n",
    "\n",
    "# KN_model.fit(X_train, y_train)\n",
    "# print ('KNeighborsClassifier: %f' % (KN_model.score(X_test, y_test)) )\n",
    "\n",
    "SVC_model.fit(X_train, y_train)\n",
    "print ('SVC: %f' % (SVC_model.score(X_test, y_test)) )"
   ]
  },
  {
   "cell_type": "code",
   "execution_count": null,
   "metadata": {
    "collapsed": true
   },
   "outputs": [],
   "source": [
    "PCA(250).fit_transform(X_train, y_train)"
   ]
  },
  {
   "cell_type": "code",
   "execution_count": null,
   "metadata": {},
   "outputs": [],
   "source": [
    "n_comp = 250\n",
    "svd = TruncatedSVD(n_components=n_comp, algorithm='arpack')\n",
    "svd.fit(X)\n",
    "print(svd.explained_variance_ratio_.sum())"
   ]
  },
  {
   "cell_type": "code",
   "execution_count": null,
   "metadata": {
    "collapsed": true
   },
   "outputs": [],
   "source": []
  }
 ],
 "metadata": {
  "kernelspec": {
   "display_name": "Python 3",
   "language": "python",
   "name": "python3"
  },
  "language_info": {
   "codemirror_mode": {
    "name": "ipython",
    "version": 3
   },
   "file_extension": ".py",
   "mimetype": "text/x-python",
   "name": "python",
   "nbconvert_exporter": "python",
   "pygments_lexer": "ipython3",
   "version": "3.6.1"
  }
 },
 "nbformat": 4,
 "nbformat_minor": 2
}
