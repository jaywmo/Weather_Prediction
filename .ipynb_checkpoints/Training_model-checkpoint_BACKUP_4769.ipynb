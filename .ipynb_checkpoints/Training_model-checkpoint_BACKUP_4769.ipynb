{
 "cells": [
  {
   "cell_type": "code",
<<<<<<< HEAD
   "execution_count": 28,
=======
   "execution_count": 44,
>>>>>>> d45ebb43bdbb16d33709f36b85e016d3fc78ee75
   "metadata": {
    "collapsed": true
   },
   "outputs": [],
   "source": [
    "import pandas as pd\n",
    "import numpy as np\n",
    "# import matplotlib.pyplot as plt\n",
    "# import sys\n",
    "# import re\n",
    "from sklearn.model_selection import train_test_split\n",
    "from sklearn.naive_bayes import GaussianNB\n",
    "from sklearn.pipeline import make_pipeline\n",
    "from sklearn.preprocessing import FunctionTransformer\n",
    "from sklearn.neighbors import KNeighborsClassifier\n",
    "from sklearn.svm import SVC\n",
    "# from skimage import color\n",
    "from skimage import io\n",
    "from sklearn.decomposition import PCA\n",
    "from sklearn.decomposition import TruncatedSVD"
   ]
  },
  {
   "cell_type": "code",
<<<<<<< HEAD
   "execution_count": 29,
=======
   "execution_count": 45,
>>>>>>> d45ebb43bdbb16d33709f36b85e016d3fc78ee75
   "metadata": {
    "collapsed": false
   },
   "outputs": [],
   "source": [
    "# READING FILE\n",
    "\n",
    "input_file = 'training_data/images_data.csv' # images_data = training_data\n",
    "testing_data = pd.read_csv(input_file, index_col = 0)"
   ]
  },
  {
   "cell_type": "code",
<<<<<<< HEAD
   "execution_count": 30,
=======
   "execution_count": 46,
>>>>>>> d45ebb43bdbb16d33709f36b85e016d3fc78ee75
   "metadata": {
    "collapsed": true
   },
   "outputs": [],
   "source": [
    "# READING IMAGES\n",
    "\n",
    "dfSize = testing_data.shape[0]\n",
    "images = io.imread_collection(testing_data['filename'].values)"
   ]
  },
  {
   "cell_type": "code",
<<<<<<< HEAD
   "execution_count": 31,
=======
   "execution_count": 47,
>>>>>>> d45ebb43bdbb16d33709f36b85e016d3fc78ee75
   "metadata": {
    "collapsed": true
   },
   "outputs": [],
   "source": [
    "# NORMALIZE DATA FUNCTION\n",
    "\n",
    "def normalizeData(X):\n",
    "    X = preprocessing.StandardScaler().fit_transform(X)\n",
    "    return X"
   ]
  },
  {
   "cell_type": "code",
<<<<<<< HEAD
   "execution_count": 32,
=======
   "execution_count": 48,
>>>>>>> d45ebb43bdbb16d33709f36b85e016d3fc78ee75
   "metadata": {
    "collapsed": false
   },
   "outputs": [],
   "source": [
<<<<<<< HEAD
    "# TRAINING SPLIT\n",
    "\n",
    "#X = testing_data.drop(['Weather', 'Date/Time'], axis = 1)\n",
    "X = images.concatenate().reshape(dfSize, 147456)\n",
=======
    "# JOINING WEATHER + IMAGES\n",
    "\n",
    "X_1 = testing_data.drop(['Weather', 'Date/Time', 'filename'], axis = 1) # 2244 x 13\n",
    "X_2 = pd.DataFrame(images.concatenate().reshape(dfSize, 147456)) # 2244 x 147456\n",
    "X = pd.concat([X_1, X_2], axis = 1)\n",
    "\n",
    "# TRAINING SPLIT\n",
    "\n",
>>>>>>> d45ebb43bdbb16d33709f36b85e016d3fc78ee75
    "y = testing_data['Weather']\n",
    "X_train, X_test, y_train, y_test = train_test_split(X,y)"
   ]
  },
  {
   "cell_type": "code",
<<<<<<< HEAD
   "execution_count": 33,
=======
   "execution_count": 49,
>>>>>>> d45ebb43bdbb16d33709f36b85e016d3fc78ee75
   "metadata": {
    "collapsed": true
   },
   "outputs": [],
   "source": [
    "# TRAINING MODELS\n",
    "\n",
<<<<<<< HEAD
=======
    "components = 250\n",
    "\n",
>>>>>>> d45ebb43bdbb16d33709f36b85e016d3fc78ee75
    "# GaussianNB\n",
    "components=5\n",
    "NB_model = make_pipeline(\n",
    "#     FunctionTransformer(normalizeData),\n",
    "    PCA(n_components=components),\n",
    "    GaussianNB(),\n",
    ")\n",
    "\n",
    "# KNeighborsClassifier\n",
    "KN_N = 20\n",
    "KN_model = make_pipeline(\n",
    "#     FunctionTransformer(normalizeData),\n",
    "    PCA(n_components=components),\n",
    "    KNeighborsClassifier(n_neighbors = KN_N),\n",
    ")\n",
    "\n",
    "# SVC\n",
    "SVC_C = 0.01\n",
    "SVC_model = make_pipeline(\n",
    "#     FunctionTransformer(normalizeData),\n",
    "    PCA(n_components=components),\n",
    "    SVC(kernel = 'linear', C = SVC_C),\n",
    ")"
   ]
  },
  {
   "cell_type": "code",
<<<<<<< HEAD
   "execution_count": 34,
=======
   "execution_count": 50,
>>>>>>> d45ebb43bdbb16d33709f36b85e016d3fc78ee75
   "metadata": {
    "collapsed": false
   },
   "outputs": [
    {
     "name": "stdout",
     "output_type": "stream",
     "text": [
<<<<<<< HEAD
      "GaussianNB: 0.381462\n",
      "KNeighborsClassifier: 0.418895\n"
=======
      "GaussianNB: 0.347594\n"
>>>>>>> d45ebb43bdbb16d33709f36b85e016d3fc78ee75
     ]
    }
   ],
   "source": [
    "# ACCURACY SCORE\n",
<<<<<<< HEAD
=======
    "\n",
    "NB_model.fit(X_train, y_train)\n",
    "print ('GaussianNB: %f' % (NB_model.score(X_test, y_test)) )\n",
>>>>>>> d45ebb43bdbb16d33709f36b85e016d3fc78ee75
    "\n",
    "NB_model.fit(X_train, y_train)\n",
    "print ('GaussianNB: %f' % (NB_model.score(X_test, y_test)) )\n",
    "\n",
<<<<<<< HEAD
    "KN_model.fit(X_train, y_train)\n",
    "print ('KNeighborsClassifier: %f' % (KN_model.score(X_test, y_test)) )\n",
    "\n",
=======
>>>>>>> d45ebb43bdbb16d33709f36b85e016d3fc78ee75
    "# SVC_model.fit(X_train, y_train)\n",
    "# print ('SVC: %f' % (SVC_model.score(X_test, y_test)) )"
   ]
  },
  {
   "cell_type": "code",
   "execution_count": null,
   "metadata": {
    "collapsed": true
   },
   "outputs": [],
   "source": []
  }
 ],
 "metadata": {
  "kernelspec": {
   "display_name": "Python 3",
   "language": "python",
   "name": "python3"
  },
  "language_info": {
   "codemirror_mode": {
    "name": "ipython",
    "version": 3
   },
   "file_extension": ".py",
   "mimetype": "text/x-python",
   "name": "python",
   "nbconvert_exporter": "python",
   "pygments_lexer": "ipython3",
   "version": "3.6.0"
  }
 },
 "nbformat": 4,
 "nbformat_minor": 2
}