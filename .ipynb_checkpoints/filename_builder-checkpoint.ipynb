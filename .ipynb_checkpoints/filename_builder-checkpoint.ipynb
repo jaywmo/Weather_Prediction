{
 "cells": [
  {
   "cell_type": "code",
   "execution_count": 1,
   "metadata": {
    "collapsed": true
   },
   "outputs": [],
   "source": [
    "import pandas as pd\n",
    "import numpy as np\n",
    "import re\n",
    "import glob # For getting all filenames"
   ]
  },
  {
   "cell_type": "code",
   "execution_count": 2,
   "metadata": {
    "collapsed": true
   },
   "outputs": [],
   "source": [
    "matchstring = r'\\/katkam-(\\d{4})(\\d{2})(\\d{2})(\\d{2})'\n",
    "#test = io.imread('katkam-scaled/katkam-20160605080000.jpg')\n",
    "#test2 = color.rgb2lab(test)\n",
    "#test.shape\n",
    "weather = pd.read_csv('training_data/training_data.csv')"
   ]
  },
  {
   "cell_type": "code",
   "execution_count": 3,
   "metadata": {
    "collapsed": true
   },
   "outputs": [],
   "source": [
    "filenames = glob.glob(\"katkam-scaled/*.jpg\") # For Linux\n",
    "# filenames = glob.glob(\"katkam-grey/*.jpg\")\n",
    "# filenames = glob.glob(\"test_image_subset/*.jpg\") # For Linux\n",
    "# filenames = glob.glob(\"katkam-scaled\\*.jpg\") # For Windows\n",
    "#filenames = glob.glob(\"test_image_subset\\*.jpg\") # For Windows\n"
   ]
  },
  {
   "cell_type": "code",
   "execution_count": 4,
   "metadata": {
    "collapsed": true
   },
   "outputs": [],
   "source": [
    "df = pd.DataFrame(0, index=np.arange(len(filenames)), columns=['filename', 'Year', 'Month', 'Day', 'Time', 'image'])\n",
    "df['filename'] = filenames"
   ]
  },
  {
   "cell_type": "code",
   "execution_count": 5,
   "metadata": {
    "collapsed": true
   },
   "outputs": [],
   "source": [
    "# df['image'] = df['filename'].apply(lambda x: io.imread(x)).values.reshape(len(filenames), -1)\n",
    "# image loading should be done on the fly on subsets that we want"
   ]
  },
  {
   "cell_type": "code",
   "execution_count": 6,
   "metadata": {
    "collapsed": true
   },
   "outputs": [],
   "source": [
    "def findDate(x):\n",
    "    match = re.search(matchstring, x[0])\n",
    "    x[1] = (int)(match.group(1))\n",
    "    x[2] = (int)(match.group(2))\n",
    "    x[3] = (int)(match.group(3))\n",
    "    x[4] = (int)(match.group(4))\n",
    "    return x"
   ]
  },
  {
   "cell_type": "code",
   "execution_count": 7,
   "metadata": {
    "collapsed": true
   },
   "outputs": [],
   "source": [
    "df = df.apply(findDate, axis=1)\n",
    "df.to_csv('training_data/conversion_test.csv')"
   ]
  },
  {
   "cell_type": "code",
   "execution_count": 8,
   "metadata": {
    "collapsed": true
   },
   "outputs": [],
   "source": [
    "output = weather.merge(df, left_on=['Day', 'Month', 'Time', 'Year'], right_on=['Day', 'Month', 'Time', 'Year'], how='inner').reset_index()"
   ]
  },
  {
   "cell_type": "code",
   "execution_count": 9,
   "metadata": {
    "collapsed": true
   },
   "outputs": [],
   "source": [
    "del output['Unnamed: 0']\n",
    "del output['index']\n",
    "\n",
    "output.to_csv('training_data/images_data.csv')\n",
    "# df['image'] = df['filename'].apply(lambda x: io.imread(x))\n",
    "# .values.reshape(len(filenames), -1)"
   ]
  },
  {
   "cell_type": "code",
   "execution_count": 10,
   "metadata": {
    "collapsed": true
   },
   "outputs": [],
   "source": [
    "# df['image'] = df['filename'].apply(lambda x: io.imread(x).reshape((147456))) "
   ]
  },
  {
   "cell_type": "code",
   "execution_count": null,
   "metadata": {
    "collapsed": true
   },
   "outputs": [],
   "source": []
  }
 ],
 "metadata": {
  "kernelspec": {
   "display_name": "Python 3",
   "language": "python",
   "name": "python3"
  },
  "language_info": {
   "codemirror_mode": {
    "name": "ipython",
    "version": 3
   },
   "file_extension": ".py",
   "mimetype": "text/x-python",
   "name": "python",
   "nbconvert_exporter": "python",
   "pygments_lexer": "ipython3",
   "version": "3.6.1"
  }
 },
 "nbformat": 4,
 "nbformat_minor": 2
}
