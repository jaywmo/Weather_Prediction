{
 "cells": [
  {
   "cell_type": "code",
   "execution_count": 1,
   "metadata": {
    "collapsed": true
   },
   "outputs": [],
   "source": [
    "import pandas as pd\n",
    "import numpy as np\n",
    "import re\n",
    "import glob # For getting all filenames"
   ]
  },
  {
   "cell_type": "code",
   "execution_count": 2,
   "metadata": {
    "collapsed": true
   },
   "outputs": [],
   "source": [
    "# Define re match string and open training_data and prediction_data\n",
    "matchstring = r'\\/katkam-(\\d{4})(\\d{2})(\\d{2})(\\d{2})'\n",
    "weather = pd.read_csv('training_data/training_data.csv')\n",
    "prediction = pd.read_csv('training_data/prediction_data.csv')"
   ]
  },
  {
   "cell_type": "code",
   "execution_count": 3,
   "metadata": {
    "collapsed": true
   },
   "outputs": [],
   "source": [
    "# Grab filenames for all images\n",
    "filenames = glob.glob(\"katkam-scaled/*.jpg\") # For Linux"
   ]
  },
  {
   "cell_type": "code",
   "execution_count": 4,
   "metadata": {
    "collapsed": true
   },
   "outputs": [],
   "source": [
    "# Create empty dataframe and insert filenames into dataframe\n",
    "df = pd.DataFrame(0, index=np.arange(len(filenames)), columns=['filename', 'Year', 'Month', 'Day', 'Time'])\n",
    "df['filename'] = filenames"
   ]
  },
  {
   "cell_type": "code",
   "execution_count": 5,
   "metadata": {
    "collapsed": true
   },
   "outputs": [],
   "source": [
    "# Find the day, month, time, and year form Date/Time to be used for inner join of filenames and data\n",
    "def findDate(x):\n",
    "    match = re.search(matchstring, x[0])\n",
    "    x[1] = (int)(match.group(1))\n",
    "    x[2] = (int)(match.group(2))\n",
    "    x[3] = (int)(match.group(3))\n",
    "    x[4] = (int)(match.group(4))\n",
    "    return x"
   ]
  },
  {
   "cell_type": "code",
   "execution_count": 6,
   "metadata": {
    "collapsed": true
   },
   "outputs": [],
   "source": [
    "# Apply findDate function\n",
    "df = df.apply(findDate, axis=1)"
   ]
  },
  {
   "cell_type": "code",
   "execution_count": 7,
   "metadata": {
    "collapsed": true
   },
   "outputs": [],
   "source": [
    "training = weather.merge(df, left_on=['Day', 'Month', 'Time', 'Year'], right_on=['Day', 'Month', 'Time', 'Year'], how='inner').reset_index()\n",
    "unknown = prediction.merge(df, left_on=['Day', 'Month', 'Time', 'Year'], right_on=['Day', 'Month', 'Time', 'Year'], how='inner').reset_index()"
   ]
  },
  {
   "cell_type": "code",
   "execution_count": 8,
   "metadata": {
    "collapsed": true
   },
   "outputs": [],
   "source": [
    "# Cleaning Training Data\n",
    "del training['Unnamed: 0']\n",
    "del training['index']\n",
    "# Cleaning Prediction Data\n",
    "del unknown['Unnamed: 0']\n",
    "del unknown['index']\n",
    "\n",
    "training.to_csv('training_data/images_data.csv')\n",
    "unknown.to_csv('training_data/unknown_data.csv')"
   ]
  },
  {
   "cell_type": "code",
   "execution_count": null,
   "metadata": {
    "collapsed": true
   },
   "outputs": [],
   "source": []
  }
 ],
 "metadata": {
  "kernelspec": {
   "display_name": "Python 3",
   "language": "python",
   "name": "python3"
  },
  "language_info": {
   "codemirror_mode": {
    "name": "ipython",
    "version": 3
   },
   "file_extension": ".py",
   "mimetype": "text/x-python",
   "name": "python",
   "nbconvert_exporter": "python",
   "pygments_lexer": "ipython3",
   "version": "3.6.1"
  }
 },
 "nbformat": 4,
 "nbformat_minor": 2
}
