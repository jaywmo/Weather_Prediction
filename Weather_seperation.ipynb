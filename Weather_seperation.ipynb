{
 "cells": [
  {
   "cell_type": "code",
   "execution_count": 99,
   "metadata": {
    "collapsed": true
   },
   "outputs": [],
   "source": [
    "# The following code separates known weather type images to separate folders. This served as a way to look at a high level how images not taken in weather station might affect classified weather.\n",
    "\n",
    "import pandas as pd\n",
    "import numpy as np\n",
    "# import matplotlib.pyplot as plt\n",
    "# import sys\n",
    "# import re\n",
    "from shutil import copyfile\n",
    "import os"
   ]
  },
  {
   "cell_type": "code",
   "execution_count": 100,
   "metadata": {
    "collapsed": true
   },
   "outputs": [],
   "source": [
    "# READING FILE\n",
    "\n",
    "input_file = 'training_data/images_data.csv' # images_data = training_data\n",
    "testing_data = pd.read_csv(input_file, index_col = 0)"
   ]
  },
  {
   "cell_type": "code",
   "execution_count": 101,
   "metadata": {},
   "outputs": [
    {
     "name": "stdout",
     "output_type": "stream",
     "text": [
      "['Mainly Clear' 'Mostly Cloudy' 'Cloudy' 'Rain Showers'\n",
      " 'Moderate Rain Showers' 'Clear' 'Rain' 'Rain,Fog' 'Drizzle'\n",
      " 'Rain Showers,Fog' 'Thunderstorms' 'Fog' 'Drizzle,Fog'\n",
      " 'Moderate Rain Showers,Fog' 'Rain,Drizzle' 'Moderate Rain'\n",
      " 'Moderate Rain,Drizzle' 'Heavy Rain' 'Moderate Rain,Fog'\n",
      " 'Rain,Drizzle,Fog' 'Heavy Rain,Fog' 'Snow Showers' 'Snow' 'Snow,Fog'\n",
      " 'Rain,Snow' 'Freezing Fog' 'Rain,Snow,Fog' 'Moderate Snow'\n",
      " 'Rain Showers,Snow Showers,Fog' 'Rain Showers,Snow Pellets'\n",
      " 'Rain Showers,Snow Showers']\n"
     ]
    }
   ],
   "source": [
    "# CHECKING FOR WEATHER DEFINITION\n",
    "\n",
    "print(testing_data['Weather'].unique())"
   ]
  },
  {
   "cell_type": "code",
   "execution_count": 102,
   "metadata": {},
   "outputs": [
    {
     "name": "stdout",
     "output_type": "stream",
     "text": [
      "weather/Mainly Clear\n",
      "weather/Mostly Cloudy\n",
      "weather/Cloudy\n",
      "weather/Rain Showers\n",
      "weather/Moderate Rain Showers\n",
      "weather/Clear\n",
      "weather/Rain\n",
      "weather/Rain,Fog\n",
      "weather/Drizzle\n",
      "weather/Rain Showers,Fog\n",
      "weather/Thunderstorms\n",
      "weather/Fog\n",
      "weather/Drizzle,Fog\n",
      "weather/Moderate Rain Showers,Fog\n",
      "weather/Rain,Drizzle\n",
      "weather/Moderate Rain\n",
      "weather/Moderate Rain,Drizzle\n",
      "weather/Heavy Rain\n",
      "weather/Moderate Rain,Fog\n",
      "weather/Rain,Drizzle,Fog\n",
      "weather/Heavy Rain,Fog\n",
      "weather/Snow Showers\n",
      "weather/Snow\n",
      "weather/Snow,Fog\n",
      "weather/Rain,Snow\n",
      "weather/Freezing Fog\n",
      "weather/Rain,Snow,Fog\n",
      "weather/Moderate Snow\n",
      "weather/Rain Showers,Snow Showers,Fog\n",
      "weather/Rain Showers,Snow Pellets\n",
      "weather/Rain Showers,Snow Showers\n"
     ]
    }
   ],
   "source": [
    "# CHECKING FOR WEATHER DEFINITION\n",
    "\n",
    "for weather in testing_data['Weather'].unique():\n",
    "    os.makedirs('weather/' + weather)\n",
    "\n",
    "for weather in testing_data['Weather'].unique():\n",
    "    weather_df = testing_data[testing_data['Weather'] == weather]\n",
    "    image_list = weather_df['filename'].values\n",
    "    destination_folder = 'weather/' + weather\n",
    "    \n",
    "    for image in image_list:\n",
    "        src = image\n",
    "        dst = destination_folder + image[13:]\n",
    "        copyfile(src, dst)\n",
    "\n",
    "# cloudy = testing_data[testing_data['Weather'] == 'Cloudy'] # 469\n",
    "# mostly_cloud = testing_data[testing_data['Weather'] == 'Mostly Cloudy'] #425\n",
    "\n",
    "# print(cloudy['filename'])"
   ]
  },
  {
   "cell_type": "code",
   "execution_count": 103,
   "metadata": {
    "collapsed": true
   },
   "outputs": [],
   "source": [
    "# list = cloudy['filename'].values\n",
    "# destination_folder = 'weather/cloudy'\n",
    "# for image in list:\n",
    "#     src = image\n",
    "#     dst = destination_folder + image[13:]\n",
    "#     copyfile(src, dst)"
   ]
  }
 ],
 "metadata": {
  "kernelspec": {
   "display_name": "Python 3",
   "language": "python",
   "name": "python3"
  },
  "language_info": {
   "codemirror_mode": {
    "name": "ipython",
    "version": 3
   },
   "file_extension": ".py",
   "mimetype": "text/x-python",
   "name": "python",
   "nbconvert_exporter": "python",
   "pygments_lexer": "ipython3",
   "version": "3.6.1"
  }
 },
 "nbformat": 4,
 "nbformat_minor": 2
}
